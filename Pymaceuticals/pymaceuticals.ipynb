{
 "cells": [
  {
   "attachments": {},
   "cell_type": "markdown",
   "metadata": {},
   "source": [
    "# Pymaceuticals Inc.\n",
    "---\n",
    "\n",
    "### Analysis\n",
    "\n",
    "- The weight of the mouse in the Capomulin treatment showed a significant positve correlation, r-value = 0.84, to the average tumor volume meaning the heavier mice tended to have larger tumors.\n",
    "\n",
    "\n",
    "- Mice in the Capomulin and Ramicane treatments ended treatments with the lowest  observed tumor volumes.\n",
    "\n",
    "\n",
    "- There was only one observed outlier over all of the treatments. Which consisted of a mouse from the Infubinol trial ending the study with a tumor volume size comparable to the mean final tumor volume size in the Ramicane and Capomulin treatments.\n",
    " "
   ]
  },
  {
   "cell_type": "code",
   "execution_count": null,
   "metadata": {},
   "outputs": [],
   "source": [
    "# Dependencies and Setup\n",
    "import matplotlib.pyplot as plt\n",
    "import pandas as pd\n",
    "import scipy.stats as st\n",
    "from scipy.stats import linregress\n",
    "import numpy as np\n",
    "\n",
    "# Study data files\n",
    "mouse_metadata_path = \"data/Mouse_metadata.csv\"\n",
    "study_results_path = \"data/Study_results.csv\"\n",
    "\n",
    "# Read the mouse data and the study results\n",
    "mouse_metadata = pd.read_csv(mouse_metadata_path)\n",
    "study_results = pd.read_csv(study_results_path)\n",
    "\n",
    "# Combine the data into a single DataFrame\n",
    "\n",
    "mouse_study_complete = pd.merge(mouse_metadata,study_results, on = 'Mouse ID' , how = 'outer')\n",
    "\n",
    "# Display the data table for preview\n",
    "mouse_study_complete.head()\n"
   ]
  },
  {
   "cell_type": "code",
   "execution_count": null,
   "metadata": {},
   "outputs": [],
   "source": [
    "# Checking the number of mice.\n",
    "mouse_count = mouse_metadata['Mouse ID'].count()\n",
    "\n",
    "mouse_count"
   ]
  },
  {
   "cell_type": "code",
   "execution_count": null,
   "metadata": {},
   "outputs": [],
   "source": [
    "# Our data should be uniquely identified by Mouse ID and Timepoint\n",
    "# Get the duplicate mice by ID number that shows up for Mouse ID and Timepoint. \n",
    "duplicate_mice = mouse_study_complete.loc[mouse_study_complete.duplicated(subset=['Mouse ID','Timepoint'],keep=False),'Mouse ID'].unique()\n",
    "duplicate_mice"
   ]
  },
  {
   "cell_type": "code",
   "execution_count": null,
   "metadata": {},
   "outputs": [],
   "source": [
    "# Optional: Get all the data for the duplicate mouse ID. \n",
    "duplicates = mouse_study_complete.loc[mouse_study_complete['Mouse ID'] == 'g989']\n",
    "duplicates"
   ]
  },
  {
   "cell_type": "code",
   "execution_count": null,
   "metadata": {},
   "outputs": [],
   "source": [
    "# Create a clean DataFrame by dropping the duplicate mouse by its ID.\n",
    "clean_df = mouse_study_complete[mouse_study_complete[\"Mouse ID\"].isin(duplicate_mice) == False]\n",
    "clean_df"
   ]
  },
  {
   "cell_type": "code",
   "execution_count": null,
   "metadata": {},
   "outputs": [],
   "source": [
    "# Checking the number of mice in the clean DataFrame.\n",
    "mice = clean_df['Mouse ID'].unique()\n",
    "mouse_count = len(mice)\n",
    "mouse_count\n",
    "\n"
   ]
  },
  {
   "attachments": {},
   "cell_type": "markdown",
   "metadata": {},
   "source": [
    "## Summary Statistics"
   ]
  },
  {
   "cell_type": "code",
   "execution_count": null,
   "metadata": {},
   "outputs": [],
   "source": [
    "# Generate a summary statistics table of mean, median, variance, standard deviation, and SEM of the tumor volume for each regimen\n",
    "\n",
    "# Use groupby and summary statistical methods to calculate the following properties of each drug regimen: \n",
    "# mean, median, variance, standard deviation, and SEM of the tumor volume. \n",
    "# Assemble the resulting series into a single summary DataFrame.\n"
   ]
  },
  {
   "cell_type": "code",
   "execution_count": null,
   "metadata": {},
   "outputs": [],
   "source": [
    "# A more advanced method to generate a summary statistics table of mean, median, variance, standard deviation,\n",
    "# and SEM of the tumor volume for each regimen (only one method is required in the solution)\n",
    "\n",
    "# Using the aggregation method, produce the same summary statistics in a single line\n",
    "drug_df = clean_df.groupby(['Drug Regimen']).agg(\n",
    "    mean=pd.NamedAgg(column='Tumor Volume (mm3)', aggfunc= 'mean'),\n",
    "    median=pd.NamedAgg(column='Tumor Volume (mm3)',aggfunc='median'),\n",
    "    variance=pd.NamedAgg(column='Tumor Volume (mm3)',aggfunc= 'var'),\n",
    "    std=pd.NamedAgg(column='Tumor Volume (mm3)',aggfunc='std'),\n",
    "    sem = pd.NamedAgg(column='Tumor Volume (mm3)',aggfunc='sem')\n",
    ")\n",
    "\n",
    "drug_df = drug_df.rename(columns={'mean' : 'Mean Tumor Volume',\n",
    "                        'median' : \"Median Tumor Volume\",\n",
    "                        'variance' : 'Tumor Volume Variance',\n",
    "                        'std' : 'Tumor Volume Std. Dev.',\n",
    "                        'sem' : 'Tumor Volume Std. Err.'\n",
    "                        })\n",
    "drug_df"
   ]
  },
  {
   "attachments": {},
   "cell_type": "markdown",
   "metadata": {},
   "source": [
    "## Bar and Pie Charts"
   ]
  },
  {
   "cell_type": "code",
   "execution_count": null,
   "metadata": {},
   "outputs": [],
   "source": [
    "# Generate a bar plot showing the total number of rows (Mouse ID/Timepoints) for each drug regimen using Pandas.\n",
    "timepoint_count = clean_df.groupby(['Drug Regimen'])['Timepoint'].count()\n",
    "timepoint_count = timepoint_count.sort_values(ascending=False)\n",
    "observation_df = pd.DataFrame({'Timepoint Count' : timepoint_count})\n",
    "\n",
    "print(timepoint_count)\n",
    "\n",
    "observation_plot = observation_df.plot(kind='bar', figsize= (7,4), xlabel= 'Drug Regimen',ylabel='# of Observed Mouse Timepoints') \n"
   ]
  },
  {
   "cell_type": "code",
   "execution_count": null,
   "metadata": {},
   "outputs": [],
   "source": [
    "# Generate a bar plot showing the total number of rows (Mouse ID/Timepoints) for each drug regimen using pyplot.\n",
    "drugs = clean_df['Drug Regimen'].unique()\n",
    "x_axis = np.arange(len(drugs))\n",
    "tick_locations = [value for value in x_axis]\n",
    "\n",
    "plt.figure(figsize=(7,4))\n",
    "plt.bar(x_axis,timepoint_count,color='b',alpha=0.5,align='center')\n",
    "plt.xticks(tick_locations,drugs,rotation='vertical')\n",
    "\n",
    "plt.xlim(-0.75, len(x_axis))\n",
    "plt.ylim(0, max(timepoint_count) + 20)\n",
    "\n",
    "plt.xlabel(\"Drug Regimem\")\n",
    "plt.ylabel(\"# of Observed Mouse Timepoints\")\n",
    "\n",
    "plt.tight_layout()\n",
    "\n",
    "plt.show()"
   ]
  },
  {
   "cell_type": "code",
   "execution_count": null,
   "metadata": {},
   "outputs": [],
   "source": [
    "# Generate a pie plot showing the distribution of female versus male mice using Pandas\n",
    "sex_counts = clean_df['Sex'].value_counts()\n",
    "sex_counts\n",
    "\n",
    "sex_plot = sex_counts.plot.pie(y='Sex', autopct='%1.1f%%', figsize = (5,5))\n",
    "sex_plot"
   ]
  },
  {
   "cell_type": "code",
   "execution_count": null,
   "metadata": {},
   "outputs": [],
   "source": [
    "# Generate a pie plot showing the distribution of female versus male mice using pyplot\n",
    "labels = [\"Male\",\"Female\"]\n",
    "plt.figure(figsize=(5,5))\n",
    "plt.ylabel('Sex')\n",
    "pie_plot = plt.pie(sex_counts, labels = labels, autopct='%1.1f%%')\n",
    "\n",
    "pie_plot"
   ]
  },
  {
   "attachments": {},
   "cell_type": "markdown",
   "metadata": {},
   "source": [
    "## Quartiles, Outliers and Boxplots"
   ]
  },
  {
   "cell_type": "code",
   "execution_count": null,
   "metadata": {},
   "outputs": [],
   "source": [
    "# Calculate the final tumor volume of each mouse across four of the treatment regimens:  \n",
    "# Capomulin, Ramicane, Infubinol, and Ceftamin\n",
    "\n",
    "# Start by getting the last (greatest) timepoint for each mouse\n",
    "greatest_timepoint = mouse_study_complete.groupby('Mouse ID')\n",
    "timepoint_max = greatest_timepoint['Timepoint'].max()\n",
    "\n",
    "\n",
    "# Merge this group df with the original DataFrame to get the tumor volume at the last timepoint\n",
    "greatest_timepoint_filtered = pd.merge(timepoint_max,mouse_study_complete, on=['Mouse ID','Timepoint'], how = 'left')\n",
    "greatest_timepoint_filtered"
   ]
  },
  {
   "cell_type": "code",
   "execution_count": null,
   "metadata": {},
   "outputs": [],
   "source": [
    "# Put treatments into a list for for loop (and later for plot labels)\n",
    "treatment_regimen = ['Capomulin','Ramicane','Infubinol','Ceftamin']\n",
    "\n",
    "\n",
    "# Create empty list to fill with tumor vol data (for plotting)\n",
    "tumor_vol_data = []\n",
    "\n",
    "# Calculate the IQR and quantitatively determine if there are any potential outliers. \n",
    "for drug in treatment_regimen:\n",
    "    # Locate the rows which contain mice on each drug and get the tumor volumes\n",
    "    final_tumor_vol = greatest_timepoint_filtered.loc[greatest_timepoint_filtered['Drug Regimen']== drug,\"Tumor Volume (mm3)\"]\n",
    "\n",
    "    # add subset \n",
    "    tumor_vol_data.append(final_tumor_vol)\n",
    "\n",
    "    quartiles = final_tumor_vol.quantile([0.25,0.5,0.75])\n",
    "    lowerq = quartiles[0.25]\n",
    "    upperq = quartiles[0.75]\n",
    "    iqr = upperq-lowerq\n",
    "\n",
    "    #Determine outliers using upper and lower bounds\n",
    "    \n",
    "    lowerbound = lowerq -(1.5*iqr)\n",
    "    upperbound = upperq +(1.5*iqr)\n",
    "\n",
    "    outliers = [x for x in final_tumor_vol  if x < lowerbound or x > upperbound] \n",
    "    \n",
    "    print(f\"{drug}'s potential outliers : {outliers} \")\n"
   ]
  },
  {
   "cell_type": "code",
   "execution_count": null,
   "metadata": {},
   "outputs": [],
   "source": [
    "# Generate a box plot that shows the distrubution of the tumor volume for each treatment group.\n",
    "flierprops = dict(markerfacecolor = 'r', markersize = 10)\n",
    "plt.boxplot(tumor_vol_data , labels= treatment_regimen, flierprops=flierprops)\n",
    "plt.ylabel('Final Tumor Volume (mm3)')\n"
   ]
  },
  {
   "attachments": {},
   "cell_type": "markdown",
   "metadata": {},
   "source": [
    "## Line and Scatter Plots"
   ]
  },
  {
   "cell_type": "code",
   "execution_count": null,
   "metadata": {},
   "outputs": [],
   "source": [
    "# Generate a line plot of tumor volume vs. time point for a single mouse treated with Capomulin\n",
    "capomulin_df = clean_df.loc[clean_df['Drug Regimen'] == 'Capomulin',:]\n",
    "\n",
    "\n",
    "x_data = capomulin_df.loc[capomulin_df['Mouse ID'] == 'i557', \"Timepoint\"]\n",
    "y_data = capomulin_df.loc[capomulin_df['Mouse ID'] == 'i557', \"Tumor Volume (mm3)\"]\n",
    "\n",
    "plt.plot(x_data,y_data)\n",
    "plt.ylabel('Tumor Volume (mm3)')\n",
    "plt.xlabel('Timepoint(days)')\n",
    "plt.title('Capomulin Treatment of mouse I557')\n",
    "\n",
    "\n",
    "capomulin_df"
   ]
  },
  {
   "cell_type": "code",
   "execution_count": null,
   "metadata": {},
   "outputs": [],
   "source": [
    "# Generate a scatter plot of mouse weight vs. the average observed tumor volume for the entire Capomulin regimen\n",
    "\n",
    "grouped_mice = capomulin_df.groupby(['Mouse ID'])['Weight (g)', \"Tumor Volume (mm3)\"].mean()\n",
    "\n",
    "weights = grouped_mice['Weight (g)']\n",
    "volumes = grouped_mice['Tumor Volume (mm3)']\n",
    "\n",
    "\n",
    "plt.scatter(weights,volumes,marker='o',facecolors = 'blue')\n",
    "plt.xlabel(\"Weight (g)\")\n",
    "plt.ylabel(\"Average Tumor Volume (mm3)\")\n",
    "plt.title(\"Capomulin Treatment: Average Tumor Volume vs Mouse Weight\")\n",
    "\n"
   ]
  },
  {
   "attachments": {},
   "cell_type": "markdown",
   "metadata": {},
   "source": [
    "## Correlation and Regression"
   ]
  },
  {
   "cell_type": "code",
   "execution_count": null,
   "metadata": {},
   "outputs": [],
   "source": [
    "# Calculate the correlation coefficient and a linear regression model \n",
    "# for mouse weight and average observed tumor volume for the entire Capomulin regimen\n",
    "(slope, intercept, rvalue, pvalue, stderr) = st.linregress(weights,volumes)\n",
    "regress_values = slope * weights + intercept\n",
    "line_eq = 'y = ' + str(round(slope,2)) + 'x = ' + str(round(intercept,2))\n",
    "plt.scatter(weights,volumes)\n",
    "plt.plot(weights,regress_values,\"r-\")\n",
    "plt.xlabel(\"Weight (g)\")\n",
    "plt.ylabel(\"Average Tumor Volume (mm3)\")\n",
    "plt.title(\"Capomulin Treatment: Average Tumor Volume vs Mouse Weight\")\n",
    "print(f'The correlation between mouse weight and the average tumor volume is {round(rvalue,2)}')\n"
   ]
  },
  {
   "cell_type": "code",
   "execution_count": null,
   "metadata": {},
   "outputs": [],
   "source": []
  }
 ],
 "metadata": {
  "anaconda-cloud": {},
  "kernelspec": {
   "display_name": "PythonData",
   "language": "python",
   "name": "python3"
  },
  "language_info": {
   "codemirror_mode": {
    "name": "ipython",
    "version": 3
   },
   "file_extension": ".py",
   "mimetype": "text/x-python",
   "name": "python",
   "nbconvert_exporter": "python",
   "pygments_lexer": "ipython3",
   "version": "3.10.11"
  }
 },
 "nbformat": 4,
 "nbformat_minor": 4
}
